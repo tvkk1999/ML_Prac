{
  "nbformat": 4,
  "nbformat_minor": 0,
  "metadata": {
    "colab": {
      "provenance": [],
      "authorship_tag": "ABX9TyMFsbFzaTUTkA/LeAEIQeML",
      "include_colab_link": true
    },
    "kernelspec": {
      "name": "python3",
      "display_name": "Python 3"
    },
    "language_info": {
      "name": "python"
    }
  },
  "cells": [
    {
      "cell_type": "markdown",
      "metadata": {
        "id": "view-in-github",
        "colab_type": "text"
      },
      "source": [
        "<a href=\"https://colab.research.google.com/github/tvkk1999/ML_Prac/blob/main/2_End_to_End_ML_Project.ipynb\" target=\"_parent\"><img src=\"https://colab.research.google.com/assets/colab-badge.svg\" alt=\"Open In Colab\"/></a>"
      ]
    },
    {
      "cell_type": "markdown",
      "source": [
        "#The main steps in an end-to-end ML:\n",
        "1. Figure out the problem statement\n",
        "2. Gather the data\n",
        "3. Explratory data analysis and visualization\n",
        "4. Data preparation\n",
        "5. Model selection and training\n",
        "6. Fine-tuning the model\n",
        "7. Solution presenation\n",
        "8. Launch, monitor, and maintain your system.\n"
      ],
      "metadata": {
        "id": "iuRKfc0ZvWtQ"
      }
    },
    {
      "cell_type": "markdown",
      "source": [
        "# 1. The problem statement\n",
        "- Your Task is to build a"
      ],
      "metadata": {
        "id": "HRbpcJr8zJZP"
      }
    },
    {
      "cell_type": "code",
      "source": [],
      "metadata": {
        "id": "YlPnRJURzDZg"
      },
      "execution_count": null,
      "outputs": []
    },
    {
      "cell_type": "code",
      "execution_count": null,
      "metadata": {
        "id": "t5scPpiys6BG"
      },
      "outputs": [],
      "source": []
    }
  ]
}